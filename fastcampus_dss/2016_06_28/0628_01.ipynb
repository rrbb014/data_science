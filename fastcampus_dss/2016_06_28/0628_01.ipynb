{
 "cells": [
  {
   "cell_type": "code",
   "execution_count": 103,
   "metadata": {
    "collapsed": true
   },
   "outputs": [],
   "source": [
    "import numpy as np\n",
    "import scipy as sp\n",
    "import pandas as pd\n",
    "import statsmodels.api as sm\n",
    "import statsmodels.formula.api as smf\n",
    "import sklearn as sk\n",
    "import matplotlib as mpl\n",
    "import matplotlib.pylab as plt\n",
    "from mpl_toolkits.mplot3d import Axes3D\n",
    "import seaborn as sns\n",
    "sns.set()\n",
    "sns.set_color_codes()\n",
    "\n",
    "%matplotlib inline\n",
    "%config InlineBackend.figure_format='png'\n",
    "\n",
    "# python 2\n",
    "from __future__ import division\n",
    "\n",
    "# 플랏 크기 조절\n",
    "fig_size = plt.rcParams[\"figure.figsize\"]\n",
    "fig_size[0] = 15\n",
    "fig_size[1] = 9\n",
    "plt.rcParams[\"figure.figsize\"] = fig_size\n",
    "mpl.rc('xtick', labelsize = 20)\n",
    "mpl.rc('ytick', labelsize = 20)\n"
   ]
  },
  {
   "cell_type": "code",
   "execution_count": 5,
   "metadata": {
    "collapsed": true
   },
   "outputs": [],
   "source": [
    "a = np.array([\n",
    "        [1],\n",
    "        [2]\n",
    "    ])"
   ]
  },
  {
   "cell_type": "code",
   "execution_count": 36,
   "metadata": {
    "collapsed": false
   },
   "outputs": [
    {
     "data": {
      "image/png": "[encoded data removed]",
      "text/plain": [
       "<matplotlib.figure.Figure at 0x7ff06be027d0>"
      ]
     },
     "metadata": {},
     "output_type": "display_data"
    }
   ],
   "source": [
    "# 점찍기\n",
    "plt.plot(0,0, 'ro', ms = 10)\n",
    "plt.plot(a[0],a[1], 'ro', ms=10)\n",
    "\n",
    "# 화살표 그리기\n",
    "plt.annotate(\"\",xy=a,xytext=(0,0), arrowprops=dict(facecolor=\"black\"))\n",
    "\n",
    "# 텍스트 기입하기\n",
    "plt.text(0.2, 1.0, \"$a$\", fontsize=30)\n",
    "\n",
    "# x축 / y축 범위\n",
    "plt.xlim(-1, 2)\n",
    "plt.ylim(-0.5, 2.5)\n",
    "plt.show()"
   ]
  },
  {
   "cell_type": "markdown",
   "metadata": {},
   "source": [
    "# 벡터의 길이 구하기 (norm)\n",
    "\n",
    "$||a|| = \\sqrt{a^T a} = \\sqrt{a_1^2 + ... a_n^2}$"
   ]
  },
  {
   "cell_type": "code",
   "execution_count": 39,
   "metadata": {
    "collapsed": false
   },
   "outputs": [
    {
     "data": {
      "text/plain": [
       "2.8284271247461903"
      ]
     },
     "execution_count": 39,
     "metadata": {},
     "output_type": "execute_result"
    }
   ],
   "source": [
    "a = np.array([[2],[2]])\n",
    "np.linalg.norm(a)"
   ]
  },
  {
   "cell_type": "markdown",
   "metadata": {},
   "source": [
    "# 단위 벡터\n",
    "길이가 1인 벡터를 단위벡터라고 한다."
   ]
  },
  {
   "cell_type": "code",
   "execution_count": 80,
   "metadata": {
    "collapsed": true
   },
   "outputs": [],
   "source": [
    "# 단위 벡터를 찾는 함수\n",
    "\n",
    "def unit_vector_finder(vector_list):\n",
    "    return [ i  for i in vector_list if np.linalg.norm(i) == 1]\n",
    "\n",
    "\n",
    "# 벡터의 길이를 구해서 딕셔너리로 리턴해주는 함수\n",
    "\n",
    "def vector_norm(vector_list):\n",
    "    return { idx: np.linalg.norm(data) for idx, data in enumerate(vector_list)}"
   ]
  },
  {
   "cell_type": "code",
   "execution_count": 100,
   "metadata": {
    "collapsed": false
   },
   "outputs": [
    {
     "name": "stdout",
     "output_type": "stream",
     "text": [
      "[[ 10.93132989]\n",
      " [  2.51071484]]\n",
      "[[ 9.83128955]\n",
      " [ 4.97456637]]\n",
      "[[ 8.77087748]\n",
      " [ 6.44491589]]\n",
      "[[ 12.65060591]\n",
      " [  3.85718319]]\n",
      "[[ 7.20492815]\n",
      " [ 1.64714067]]\n",
      "[[ 9.8762974 ]\n",
      " [ 1.30030716]]\n",
      "[[ 23.63232971]\n",
      " [  5.84722112]]\n",
      "[[ 12.66026517]\n",
      " [  2.84168478]]\n",
      "[[ 16.95924166]\n",
      " [  5.62962803]]\n",
      "[[ 1.25504479]\n",
      " [ 6.53944252]]\n",
      "[[ 7.48699903]\n",
      " [ 4.68772292]]\n",
      "[[ 20.95919784]\n",
      " [  5.01024967]]\n",
      "[[ 8.14096807]\n",
      " [ 5.63729524]]\n",
      "[[ 11.4603505 ]\n",
      " [  5.81022565]]\n",
      "[[ 2.47576888]\n",
      " [ 6.53274507]]\n",
      "[[ 3.20121709]\n",
      " [ 5.48381056]]\n",
      "[[ 9.92834209]\n",
      " [ 5.42127011]]\n",
      "[[ 17.27766124]\n",
      " [  3.26773867]]\n",
      "[[ 6.13208732]\n",
      " [ 5.23077569]]\n",
      "[[ 6.98081811]\n",
      " [ 5.72955296]]\n",
      "[[ 8.2288794 ]\n",
      " [ 4.82606121]]\n",
      "[[ 5.05359914]\n",
      " [ 1.27475034]]\n",
      "[[ 10.50306792]\n",
      " [  3.39071744]]\n",
      "[[ 12.89504011]\n",
      " [  3.72019675]]\n",
      "[[ 6.19026459]\n",
      " [ 1.0466502 ]]\n",
      "[[ 7.99578936]\n",
      " [ 6.4842416 ]]\n",
      "[[ 5.28203206]\n",
      " [ 6.88549665]]\n",
      "[[ 8.820302]\n",
      " [ 4.080219]]\n",
      "[[ 14.02185195]\n",
      " [  4.21247   ]]\n",
      "[[ 11.41531049]\n",
      " [  5.97955182]]\n",
      "[[ 11.63370281]\n",
      " [  1.34147979]]\n",
      "[[ 8.16207896]\n",
      " [ 3.69191529]]\n",
      "[[ 6.50413423]\n",
      " [ 4.60876155]]\n",
      "[[ 15.19542363]\n",
      " [  1.78077801]]\n",
      "[[ 13.93103493]\n",
      " [  4.98230087]]\n",
      "[[ 11.99029559]\n",
      " [  3.70491717]]\n",
      "[[ 8.03869522]\n",
      " [ 2.29923308]]\n",
      "[[ 17.22209178]\n",
      " [  4.2622991 ]]\n",
      "[[ 21.20356817]\n",
      " [  1.727959  ]]\n",
      "[[ 7.88905222]\n",
      " [ 3.48132183]]\n",
      "[[ 4.75617727]\n",
      " [ 4.00711599]]\n",
      "[[ 15.0113219 ]\n",
      " [  4.72117304]]\n",
      "[[ 10.42806547]\n",
      " [  3.47623471]]\n",
      "[[ 2.94456053]\n",
      " [ 4.56793233]]\n",
      "[[ 9.1027695 ]\n",
      " [ 6.08754256]]\n",
      "[[ 6.22989929]\n",
      " [ 3.09522723]]\n",
      "[[ 7.39191455]\n",
      " [ 1.86811915]]\n",
      "[[ 19.97707471]\n",
      " [  3.68607569]]\n",
      "[[ 4.49897997]\n",
      " [ 2.9722509 ]]\n",
      "[[ 15.95531918]\n",
      " [  3.98346809]]\n",
      "[[ 10.68040796]\n",
      " [  5.71741383]]\n",
      "[[ 9.50539932]\n",
      " [ 3.359812  ]]\n",
      "[[ 13.56085137]\n",
      " [  5.68379882]]\n",
      "[[ 7.34662962]\n",
      " [ 3.04990792]]\n",
      "[[ 8.32031343]\n",
      " [ 1.04632822]]\n",
      "[[ 10.64281964]\n",
      " [  1.05312217]]\n",
      "[[ 5.93517063]\n",
      " [ 5.27111752]]\n",
      "[[ 12.11248745]\n",
      " [  1.86100131]]\n",
      "[[ 11.75967663]\n",
      " [  6.70783954]]\n",
      "[[ 8.53311945]\n",
      " [ 5.37354761]]\n",
      "[[ 12.75016375]\n",
      " [  1.9219751 ]]\n",
      "[[ 3.43178918]\n",
      " [ 3.07599622]]\n",
      "[[ 12.55071458]\n",
      " [  4.79420986]]\n",
      "[[ 15.49486738]\n",
      " [  4.75578184]]\n",
      "[[ 12.14086736]\n",
      " [  3.1104516 ]]\n",
      "[[ 20.94523725]\n",
      " [  1.42594952]]\n",
      "[[ 0.9052099 ]\n",
      " [ 6.50173577]]\n",
      "[[ 7.71089876]\n",
      " [ 5.47551036]]\n",
      "[[ 15.98265551]\n",
      " [  6.31285205]]\n",
      "[[ 12.12025109]\n",
      " [  5.22345322]]\n",
      "[[ 8.23453607]\n",
      " [ 4.50978856]]\n",
      "[[ 10.9870497 ]\n",
      " [  2.93140544]]\n",
      "[[ 12.896495  ]\n",
      " [  2.29719282]]\n",
      "[[ 10.67005175]\n",
      " [  4.85191762]]\n",
      "[[ 16.11476472]\n",
      " [  3.87120107]]\n",
      "[[ 10.2873966 ]\n",
      " [  1.29164854]]\n",
      "[[ 8.95338074]\n",
      " [ 6.40754139]]\n",
      "[[ 5.59805996]\n",
      " [ 4.99337561]]\n",
      "[[ 9.98094217]\n",
      " [ 6.02461527]]\n",
      "[[ 10.01240369]\n",
      " [  3.06254582]]\n",
      "[[ 7.6467122 ]\n",
      " [ 1.51011773]]\n",
      "[[ 9.91241023]\n",
      " [ 4.59350351]]\n",
      "[[ 9.44568526]\n",
      " [ 3.72314367]]\n",
      "[[ 5.27054225]\n",
      " [ 4.90992054]]\n",
      "[[ 13.91374393]\n",
      " [  4.91485365]]\n",
      "[[ 11.87967998]\n",
      " [  1.950201  ]]\n",
      "[[ 3.53106103]\n",
      " [ 2.24248608]]\n",
      "[[ 8.95773278]\n",
      " [ 3.20803412]]\n",
      "[[ 2.59341604]\n",
      " [ 5.35716467]]\n",
      "[[ 6.92630555]\n",
      " [ 2.83053681]]\n",
      "[[ 10.03958998]\n",
      " [  1.85119309]]\n",
      "[[ 15.90150896]\n",
      " [  1.56711866]]\n",
      "[[ 12.02941786]\n",
      " [  2.15376994]]\n",
      "[[ 5.75946962]\n",
      " [ 1.5893711 ]]\n",
      "[[ 0.22942181]\n",
      " [ 2.84243955]]\n",
      "[[ 5.68653423]\n",
      " [ 4.17689895]]\n",
      "[[ 15.17753943]\n",
      " [  1.18554927]]\n",
      "[[ 9.04141807]\n",
      " [ 6.1632557 ]]\n",
      "[[ 7.81840591]\n",
      " [ 3.27583945]]\n",
      "[[ 13.57139258]\n",
      " [  1.77049901]]\n"
     ]
    },
    {
     "data": {
      "text/plain": [
       "{}"
      ]
     },
     "execution_count": 100,
     "metadata": {},
     "output_type": "execute_result"
    }
   ],
   "source": [
    "import random\n",
    "generato_r = random.Random()\n",
    "vector_list = np.array([])\n",
    "for _ in range(100):\n",
    "    a = generato_r.gauss(10,5)\n",
    "    b = generato_r.uniform(1,7)\n",
    "    temp_vector = np.array([[a],[b]])\n",
    "    vector_list = np.append(vector_list, temp_vector)\n",
    "    print(temp_vector)\n",
    "vector_list = vector_list.reshape(100,2)\n",
    "\n",
    "vector_norm(unit_vector_finder(vector_list))"
   ]
  },
  {
   "cell_type": "code",
   "execution_count": null,
   "metadata": {
    "collapsed": true
   },
   "outputs": [],
   "source": [
    "    b = generato_r.uniform"
   ]
  },
  {
   "cell_type": "code",
   "execution_count": null,
   "metadata": {
    "collapsed": true
   },
   "outputs": [],
   "source": [
    "    a = generato_r.gauss"
   ]
  },
  {
   "cell_type": "code",
   "execution_count": 84,
   "metadata": {
    "collapsed": false
   },
   "outputs": [
    {
     "data": {
      "text/plain": [
       "{0: 0, 1: 1, 2: 2}"
      ]
     },
     "execution_count": 84,
     "metadata": {},
     "output_type": "execute_result"
    }
   ],
   "source": [
    "{i:i for i in range(3)}"
   ]
  },
  {
   "cell_type": "code",
   "execution_count": 76,
   "metadata": {
    "collapsed": false
   },
   "outputs": [
    {
     "name": "stdout",
     "output_type": "stream",
     "text": [
      "<enumerate object at 0x7ff06be837d0>\n"
     ]
    }
   ],
   "source": []
  },
  {
   "cell_type": "code",
   "execution_count": 56,
   "metadata": {
    "collapsed": false
   },
   "outputs": [
    {
     "data": {
      "text/plain": [
       "array([[  34.,   54.],\n",
       "       [  25.,   36.],\n",
       "       [  19.,   10.],\n",
       "       [  77.,   78.],\n",
       "       [  49.,   96.],\n",
       "       [  81.,   20.],\n",
       "       [  15.,   21.],\n",
       "       [  93.,   79.],\n",
       "       [  84.,   28.],\n",
       "       [  24.,   15.],\n",
       "       [  66.,   58.],\n",
       "       [  10.,   54.],\n",
       "       [  79.,   62.],\n",
       "       [  26.,   75.],\n",
       "       [  34.,    2.],\n",
       "       [  55.,   66.],\n",
       "       [  97.,   47.],\n",
       "       [  18.,   24.],\n",
       "       [   6.,   45.],\n",
       "       [  67.,   16.],\n",
       "       [   3.,   72.],\n",
       "       [  80.,   28.],\n",
       "       [  30.,   85.],\n",
       "       [  21.,   36.],\n",
       "       [   3.,   45.],\n",
       "       [   1.,   90.],\n",
       "       [  87.,   58.],\n",
       "       [  10.,   53.],\n",
       "       [   7.,    0.],\n",
       "       [  91.,   58.],\n",
       "       [  89.,   92.],\n",
       "       [ 100.,    8.],\n",
       "       [  47.,   35.],\n",
       "       [  84.,   24.],\n",
       "       [  53.,   61.],\n",
       "       [  19.,   52.],\n",
       "       [  47.,   60.],\n",
       "       [  12.,   81.],\n",
       "       [  41.,   62.],\n",
       "       [  55.,   75.],\n",
       "       [  43.,   81.],\n",
       "       [   0.,   13.],\n",
       "       [  97.,   64.],\n",
       "       [  48.,   12.],\n",
       "       [  81.,   77.],\n",
       "       [  84.,   71.],\n",
       "       [  19.,   92.],\n",
       "       [  68.,   19.],\n",
       "       [  98.,   21.],\n",
       "       [   3.,   26.],\n",
       "       [  90.,   33.],\n",
       "       [  50.,   68.],\n",
       "       [  35.,   82.],\n",
       "       [  13.,   50.],\n",
       "       [  75.,   13.],\n",
       "       [  79.,   60.],\n",
       "       [  69.,   20.],\n",
       "       [  60.,    0.],\n",
       "       [  52.,   73.],\n",
       "       [  49.,   44.],\n",
       "       [   3.,   55.],\n",
       "       [  82.,   53.],\n",
       "       [  48.,   68.],\n",
       "       [  36.,   99.],\n",
       "       [  91.,   66.],\n",
       "       [  92.,   79.],\n",
       "       [  92.,   14.],\n",
       "       [  51.,   28.],\n",
       "       [  72.,   78.],\n",
       "       [  12.,   93.],\n",
       "       [  88.,   26.],\n",
       "       [  58.,   34.],\n",
       "       [  52.,   94.],\n",
       "       [  36.,   74.],\n",
       "       [  67.,   41.],\n",
       "       [  41.,   98.],\n",
       "       [  50.,   47.],\n",
       "       [  16.,   55.],\n",
       "       [  70.,   26.],\n",
       "       [  74.,   40.],\n",
       "       [  59.,   87.],\n",
       "       [  59.,   98.],\n",
       "       [  60.,   86.],\n",
       "       [  61.,   68.],\n",
       "       [  93.,    1.],\n",
       "       [  56.,   52.],\n",
       "       [  87.,   72.],\n",
       "       [  56.,   20.],\n",
       "       [  33.,   38.],\n",
       "       [  49.,    8.],\n",
       "       [  19.,   53.],\n",
       "       [  11.,   47.],\n",
       "       [  91.,    1.],\n",
       "       [  75.,   45.],\n",
       "       [  74.,   21.],\n",
       "       [  61.,    5.],\n",
       "       [  95.,   99.],\n",
       "       [  26.,   14.],\n",
       "       [  86.,    2.],\n",
       "       [  37.,   96.]])"
      ]
     },
     "execution_count": 56,
     "metadata": {},
     "output_type": "execute_result"
    }
   ],
   "source": [
    "vector_list.reshape(100,2)"
   ]
  },
  {
   "cell_type": "code",
   "execution_count": 86,
   "metadata": {
    "collapsed": true
   },
   "outputs": [],
   "source": [
    "random.random?"
   ]
  },
  {
   "cell_type": "markdown",
   "metadata": {},
   "source": [
    "# 벡터의 합"
   ]
  },
  {
   "cell_type": "code",
   "execution_count": 130,
   "metadata": {
    "collapsed": false
   },
   "outputs": [
    {
     "data": {
      "text/plain": [
       "(-1, 5)"
      ]
     },
     "execution_count": 130,
     "metadata": {},
     "output_type": "execute_result"
    },
    {
     "data": {
      "image/png": "[encoded data removed]",
      "text/plain": [
       "<matplotlib.figure.Figure at 0x7ff06b8f3e90>"
      ]
     },
     "metadata": {},
     "output_type": "display_data"
    }
   ],
   "source": [
    "a = np.array([1,2])\n",
    "b = np.array([2,1])\n",
    "c = a + b\n",
    "\n",
    "plt.annotate('', xy=a, xytext=(0,0), arrowprops=dict(facecolor='gray'))\n",
    "plt.annotate('', xy=b, xytext=(0,0), arrowprops=dict(facecolor='gray'))\n",
    "plt.annotate('', xy=c, xytext=(0,0), arrowprops=dict(facecolor='black'))\n",
    "plt.plot([a[0],c[0]],[a[1],c[1]], 'k--')\n",
    "plt.plot([b[0],c[0]],[b[1],c[1]], 'k--')\n",
    "\n",
    "\n",
    "plt.plot(a[0],a[1],'ro',ms=10)\n",
    "plt.plot(b[0],b[1],'ro',ms=10)\n",
    "\n",
    "plt.xlim(-1,4)\n",
    "\n",
    "plt.ylim(-1,5)"
   ]
  },
  {
   "cell_type": "code",
   "execution_count": 120,
   "metadata": {
    "collapsed": true
   },
   "outputs": [],
   "source": [
    "plt.annotate?"
   ]
  },
  {
   "cell_type": "code",
   "execution_count": 131,
   "metadata": {
    "collapsed": true
   },
   "outputs": [],
   "source": [
    "a = np.array([1,1])\n",
    "b = np.array([-1,1])"
   ]
  },
  {
   "cell_type": "code",
   "execution_count": 132,
   "metadata": {
    "collapsed": false
   },
   "outputs": [
    {
     "data": {
      "text/plain": [
       "0"
      ]
     },
     "execution_count": 132,
     "metadata": {},
     "output_type": "execute_result"
    }
   ],
   "source": [
    "np.dot(a,b)"
   ]
  },
  {
   "cell_type": "code",
   "execution_count": 138,
   "metadata": {
    "collapsed": true
   },
   "outputs": [],
   "source": [
    "a = np.array([1,2])\n",
    "b = np.array([2,0])\n",
    "a2 = np.dot(a,b) / np.linalg.norm(b) * np.array([1,0])"
   ]
  },
  {
   "cell_type": "code",
   "execution_count": 139,
   "metadata": {
    "collapsed": false
   },
   "outputs": [],
   "source": [
    "a1 = a- a2"
   ]
  },
  {
   "cell_type": "code",
   "execution_count": 140,
   "metadata": {
    "collapsed": false
   },
   "outputs": [
    {
     "data": {
      "text/plain": [
       "array([ 0.,  2.])"
      ]
     },
     "execution_count": 140,
     "metadata": {},
     "output_type": "execute_result"
    }
   ],
   "source": []
  },
  {
   "cell_type": "code",
   "execution_count": null,
   "metadata": {
    "collapsed": true
   },
   "outputs": [],
   "source": []
  }
 ],
 "metadata": {
  "kernelspec": {
   "display_name": "Python 2",
   "language": "python",
   "name": "python2"
  },
  "language_info": {
   "codemirror_mode": {
    "name": "ipython",
    "version": 2
   },
   "file_extension": ".py",
   "mimetype": "text/x-python",
   "name": "python",
   "nbconvert_exporter": "python",
   "pygments_lexer": "ipython2",
   "version": "2.7.11"
  },
  "widgets": {
   "state": {},
   "version": "1.1.2"
  }
 },
 "nbformat": 4,
 "nbformat_minor": 0
}
